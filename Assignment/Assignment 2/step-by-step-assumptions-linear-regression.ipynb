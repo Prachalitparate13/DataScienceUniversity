{
 "cells": [
  {
   "cell_type": "markdown",
   "metadata": {
    "_uuid": "eabcfc4998ca069b7a1ec8e29af56e870a1222a1"
   },
   "source": [
    "## This notebook explains the assumptions of linear regression in detail. One of the most essential steps to take before applying linear regression and depending solely on accuracy scores is to check for these assumptions."
   ]
  },
  {
   "cell_type": "markdown",
   "metadata": {
    "_uuid": "9f8ebdf911e86d23c66eafd38052f0f04666421a"
   },
   "source": [
    "Table of Content\n",
    "<br><a href=\"#linearity\">1. Linearity</a>\n",
    "<br><a href=\"#mean\">2. Mean of Residuals</a>\n",
    "<br><a href=\"#homo\">3. Check for Homoscedasticity</a>\n",
    "<br><a href=\"#normal\">4. Check for Normality of error terms/residuals</a>\n",
    "<br><a href=\"#auto\">5. No autocorrelation of residuals</a>\n",
    "<br><a href=\"#multico\">6. No perfect multicollinearity</a>\n",
    "<br><a href=\"#other\">7. Other Models for comparison</a>\n"
   ]
  },
  {
   "cell_type": "code",
   "execution_count": 1,
   "metadata": {
    "_cell_guid": "b1076dfc-b9ad-4769-8c92-a6c4dae69d19",
    "_uuid": "8f2839f25d086af736a60e9eeb907d3b93b6e0e5",
    "execution": {
     "iopub.execute_input": "2022-05-03T11:02:57.509496Z",
     "iopub.status.busy": "2022-05-03T11:02:57.508925Z",
     "iopub.status.idle": "2022-05-03T11:02:58.239220Z",
     "shell.execute_reply": "2022-05-03T11:02:58.237819Z",
     "shell.execute_reply.started": "2022-05-03T11:02:57.509421Z"
    }
   },
   "outputs": [],
   "source": [
    "import numpy as np # linear algebra\n",
    "import pandas as pd # data processing, CSV file I/O (e.g. pd.read_csv)\n",
    "import seaborn as sns\n",
    "sns.set(context=\"notebook\", palette=\"Spectral\", style = 'darkgrid' ,font_scale = 1.5, color_codes=True)\n",
    "import warnings\n",
    "warnings.filterwarnings('ignore')\n",
    "import os\n",
    "import matplotlib.pyplot as plt"
   ]
  },
  {
   "cell_type": "code",
   "execution_count": 2,
   "metadata": {
    "_cell_guid": "79c7e3d0-c299-4dcb-8224-4455121ee9b0",
    "_uuid": "d629ff2d2480ee46fbb7e2d37f6b5fab8052498a",
    "execution": {
     "iopub.execute_input": "2022-05-03T11:03:56.527282Z",
     "iopub.status.busy": "2022-05-03T11:03:56.526845Z",
     "iopub.status.idle": "2022-05-03T11:03:56.578580Z",
     "shell.execute_reply": "2022-05-03T11:03:56.577322Z",
     "shell.execute_reply.started": "2022-05-03T11:03:56.527213Z"
    }
   },
   "outputs": [],
   "source": [
    "ad_data = pd.read_csv('../input/Advertising.csv',index_col='Unnamed: 0')"
   ]
  },
  {
   "cell_type": "code",
   "execution_count": 4,
   "metadata": {
    "execution": {
     "iopub.execute_input": "2022-05-03T11:05:21.791130Z",
     "iopub.status.busy": "2022-05-03T11:05:21.790801Z",
     "iopub.status.idle": "2022-05-03T11:05:21.810874Z",
     "shell.execute_reply": "2022-05-03T11:05:21.809451Z",
     "shell.execute_reply.started": "2022-05-03T11:05:21.791077Z"
    }
   },
   "outputs": [],
   "source": [
    "ad_data.tail()"
   ]
  },
  {
   "cell_type": "code",
   "execution_count": 5,
   "metadata": {
    "_uuid": "baad5990c8d403011d0efd4454b95bd06907a63e",
    "execution": {
     "iopub.execute_input": "2022-05-03T11:05:46.448453Z",
     "iopub.status.busy": "2022-05-03T11:05:46.447817Z",
     "iopub.status.idle": "2022-05-03T11:05:46.461177Z",
     "shell.execute_reply": "2022-05-03T11:05:46.460065Z",
     "shell.execute_reply.started": "2022-05-03T11:05:46.448380Z"
    }
   },
   "outputs": [],
   "source": [
    "ad_data.info()"
   ]
  },
  {
   "cell_type": "code",
   "execution_count": 6,
   "metadata": {
    "execution": {
     "iopub.execute_input": "2022-05-03T11:07:11.414724Z",
     "iopub.status.busy": "2022-05-03T11:07:11.414329Z",
     "iopub.status.idle": "2022-05-03T11:07:11.423491Z",
     "shell.execute_reply": "2022-05-03T11:07:11.422382Z",
     "shell.execute_reply.started": "2022-05-03T11:07:11.414660Z"
    }
   },
   "outputs": [],
   "source": [
    "ad_data.isna().sum()"
   ]
  },
  {
   "cell_type": "code",
   "execution_count": 7,
   "metadata": {
    "_uuid": "a0d7b50b73e17a56035f97160ef840d8fe2c5d05",
    "execution": {
     "iopub.execute_input": "2022-05-03T11:07:28.044670Z",
     "iopub.status.busy": "2022-05-03T11:07:28.044040Z",
     "iopub.status.idle": "2022-05-03T11:07:28.090799Z",
     "shell.execute_reply": "2022-05-03T11:07:28.089542Z",
     "shell.execute_reply.started": "2022-05-03T11:07:28.044607Z"
    }
   },
   "outputs": [],
   "source": [
    "ad_data.describe()"
   ]
  },
  {
   "cell_type": "code",
   "execution_count": 8,
   "metadata": {
    "execution": {
     "iopub.execute_input": "2022-05-03T11:10:10.061174Z",
     "iopub.status.busy": "2022-05-03T11:10:10.060770Z",
     "iopub.status.idle": "2022-05-03T11:10:10.300460Z",
     "shell.execute_reply": "2022-05-03T11:10:10.299472Z",
     "shell.execute_reply.started": "2022-05-03T11:10:10.061028Z"
    }
   },
   "outputs": [],
   "source": [
    "ad_data.boxplot()"
   ]
  },
  {
   "cell_type": "code",
   "execution_count": 9,
   "metadata": {
    "_uuid": "0b6e659a59c28df633161fd4cd2967515daa3540",
    "execution": {
     "iopub.execute_input": "2022-05-03T11:12:26.005109Z",
     "iopub.status.busy": "2022-05-03T11:12:26.004779Z",
     "iopub.status.idle": "2022-05-03T11:12:28.582683Z",
     "shell.execute_reply": "2022-05-03T11:12:28.581261Z",
     "shell.execute_reply.started": "2022-05-03T11:12:26.005056Z"
    }
   },
   "outputs": [],
   "source": [
    "p = sns.pairplot(ad_data)"
   ]
  },
  {
   "cell_type": "code",
   "execution_count": 10,
   "metadata": {
    "execution": {
     "iopub.execute_input": "2022-05-03T11:15:57.002437Z",
     "iopub.status.busy": "2022-05-03T11:15:57.002101Z",
     "iopub.status.idle": "2022-05-03T11:15:57.009014Z",
     "shell.execute_reply": "2022-05-03T11:15:57.008011Z",
     "shell.execute_reply.started": "2022-05-03T11:15:57.002380Z"
    }
   },
   "outputs": [],
   "source": [
    "ad_data.shape"
   ]
  },
  {
   "cell_type": "markdown",
   "metadata": {
    "_uuid": "157f44a2643c02ecfbd8aa71260b3937d58d9342"
   },
   "source": [
    "#  Assumptions for Linear Regression"
   ]
  },
  {
   "cell_type": "markdown",
   "metadata": {
    "_uuid": "d7e40d3858e84d8baa73c76239b5e01cf97d5c31"
   },
   "source": [
    "## <a id=\"linearity\">1. Linearity</a>\n"
   ]
  },
  {
   "cell_type": "markdown",
   "metadata": {
    "_uuid": "cda2075202657ed8277b20cd008d4160840d6085"
   },
   "source": [
    " ### Linear regression needs the relationship between the independent and dependent variables to be linear.  Let's use a pair plot to check the relation of independent variables with the Sales variable"
   ]
  },
  {
   "cell_type": "code",
   "execution_count": 11,
   "metadata": {
    "_uuid": "a908302988372a701fcb2a372d45719554d0f89f",
    "execution": {
     "iopub.execute_input": "2022-05-03T11:17:11.289399Z",
     "iopub.status.busy": "2022-05-03T11:17:11.288960Z",
     "iopub.status.idle": "2022-05-03T11:17:11.923057Z",
     "shell.execute_reply": "2022-05-03T11:17:11.921973Z",
     "shell.execute_reply.started": "2022-05-03T11:17:11.289328Z"
    }
   },
   "outputs": [],
   "source": [
    "# visualize the relationship between the features and the response using scatterplots\n",
    "p = sns.pairplot(ad_data, x_vars=['TV','Radio','Newspaper'], y_vars='Sales', size=7, aspect=0.7)"
   ]
  },
  {
   "cell_type": "markdown",
   "metadata": {
    "_uuid": "ed56877c9d2e8d60e78511e103cab883d25f5ca2"
   },
   "source": [
    "### By looking at the plots we can see that with the Sales variable the none of the independent variables form an accurately linear shape but TV and Radio do still better than Newspaper which seems to hardly have any specific shape. So it shows that a linear regression fitting might not be the best model for it. A linear model might not be able to *efficiently* explain the data in terms of variability, prediction accuracy etc. \n",
    "\n",
    "A tip is to remember to always see the plots from where the dependent variable is on the y axis. Though it wouldn't vary the shape much but that's how linear regression's intuition is, to put the dependent variable as y and independents as x(s)."
   ]
  },
  {
   "cell_type": "markdown",
   "metadata": {
    "_uuid": "9406d148d9dbdf774cd743d0c94f55bf479bc1ed"
   },
   "source": [
    "### Now rest of the assumptions require us to perform the regression before we can even check for them. So let's perform regression on it."
   ]
  },
  {
   "cell_type": "markdown",
   "metadata": {
    "_uuid": "507e37fcbfa69eea7f15b4678990c44de9a22201"
   },
   "source": [
    "### Fitting the linear model"
   ]
  },
  {
   "cell_type": "code",
   "execution_count": 12,
   "metadata": {
    "_uuid": "46080394aec98c4c5cd958d3d653094c6b825813",
    "execution": {
     "iopub.execute_input": "2022-05-03T11:20:31.928712Z",
     "iopub.status.busy": "2022-05-03T11:20:31.928425Z",
     "iopub.status.idle": "2022-05-03T11:20:31.934634Z",
     "shell.execute_reply": "2022-05-03T11:20:31.933721Z",
     "shell.execute_reply.started": "2022-05-03T11:20:31.928675Z"
    }
   },
   "outputs": [],
   "source": [
    "x = ad_data.drop([\"Sales\"],axis=1)\n",
    "y = ad_data.Sales"
   ]
  },
  {
   "cell_type": "code",
   "execution_count": 14,
   "metadata": {
    "execution": {
     "iopub.execute_input": "2022-05-03T11:20:51.238403Z",
     "iopub.status.busy": "2022-05-03T11:20:51.238007Z",
     "iopub.status.idle": "2022-05-03T11:20:51.247874Z",
     "shell.execute_reply": "2022-05-03T11:20:51.246535Z",
     "shell.execute_reply.started": "2022-05-03T11:20:51.238342Z"
    }
   },
   "outputs": [],
   "source": [
    "y.head()"
   ]
  },
  {
   "cell_type": "code",
   "execution_count": 16,
   "metadata": {
    "_uuid": "f7328260465815618b95ab94ec67514028875b63",
    "execution": {
     "iopub.execute_input": "2022-05-03T11:23:04.735290Z",
     "iopub.status.busy": "2022-05-03T11:23:04.734930Z",
     "iopub.status.idle": "2022-05-03T11:23:04.969700Z",
     "shell.execute_reply": "2022-05-03T11:23:04.968842Z",
     "shell.execute_reply.started": "2022-05-03T11:23:04.735222Z"
    }
   },
   "outputs": [],
   "source": [
    "from sklearn.preprocessing import StandardScaler\n",
    "sc = StandardScaler()\n",
    "X = sc.fit_transform(x)"
   ]
  },
  {
   "cell_type": "code",
   "execution_count": 18,
   "metadata": {
    "execution": {
     "iopub.execute_input": "2022-05-03T11:23:10.230979Z",
     "iopub.status.busy": "2022-05-03T11:23:10.230676Z",
     "iopub.status.idle": "2022-05-03T11:23:10.248169Z",
     "shell.execute_reply": "2022-05-03T11:23:10.247187Z",
     "shell.execute_reply.started": "2022-05-03T11:23:10.230924Z"
    }
   },
   "outputs": [],
   "source": [
    "X"
   ]
  },
  {
   "cell_type": "code",
   "execution_count": 20,
   "metadata": {
    "_uuid": "e87ec448f49c4b0b4faae6993e878b84b482d0b0",
    "execution": {
     "iopub.execute_input": "2022-05-03T11:30:26.166332Z",
     "iopub.status.busy": "2022-05-03T11:30:26.165710Z",
     "iopub.status.idle": "2022-05-03T11:30:26.172964Z",
     "shell.execute_reply": "2022-05-03T11:30:26.171706Z",
     "shell.execute_reply.started": "2022-05-03T11:30:26.165979Z"
    }
   },
   "outputs": [],
   "source": [
    "from sklearn.model_selection import train_test_split\n",
    "X_train, X_test, y_train, y_test = train_test_split(X, y,random_state = 0,test_size=0.25)"
   ]
  },
  {
   "cell_type": "code",
   "execution_count": 22,
   "metadata": {
    "_uuid": "8e63db56c76668c3226b80bf5852c80ec0464797",
    "execution": {
     "iopub.execute_input": "2022-05-03T11:31:07.750097Z",
     "iopub.status.busy": "2022-05-03T11:31:07.749771Z",
     "iopub.status.idle": "2022-05-03T11:31:07.758677Z",
     "shell.execute_reply": "2022-05-03T11:31:07.757407Z",
     "shell.execute_reply.started": "2022-05-03T11:31:07.750058Z"
    }
   },
   "outputs": [],
   "source": [
    "from sklearn.metrics import mean_absolute_error\n",
    "from sklearn.metrics import mean_squared_error\n",
    "from sklearn.metrics import r2_score\n",
    "from sklearn import linear_model\n",
    "\n",
    "regr = linear_model.LinearRegression()\n",
    "regr.fit(X_train,y_train) # MOdel is built\n",
    "y_pred = regr.predict(X_train)"
   ]
  },
  {
   "cell_type": "code",
   "execution_count": 41,
   "metadata": {
    "execution": {
     "iopub.execute_input": "2022-05-03T11:59:37.173856Z",
     "iopub.status.busy": "2022-05-03T11:59:37.173476Z",
     "iopub.status.idle": "2022-05-03T11:59:37.180408Z",
     "shell.execute_reply": "2022-05-03T11:59:37.179671Z",
     "shell.execute_reply.started": "2022-05-03T11:59:37.173793Z"
    }
   },
   "outputs": [],
   "source": [
    "regr.predict(np.array([1250, 100, 100]).reshape(1, -1))"
   ]
  },
  {
   "cell_type": "code",
   "execution_count": 25,
   "metadata": {
    "execution": {
     "iopub.execute_input": "2022-05-03T11:32:58.769977Z",
     "iopub.status.busy": "2022-05-03T11:32:58.769592Z",
     "iopub.status.idle": "2022-05-03T11:32:58.777382Z",
     "shell.execute_reply": "2022-05-03T11:32:58.776713Z",
     "shell.execute_reply.started": "2022-05-03T11:32:58.769892Z"
    }
   },
   "outputs": [],
   "source": [
    "r2 = r2_score(y_true=y_train,y_pred=y_pred)\n",
    "r2"
   ]
  },
  {
   "cell_type": "code",
   "execution_count": 26,
   "metadata": {
    "execution": {
     "iopub.execute_input": "2022-05-03T11:33:08.864624Z",
     "iopub.status.busy": "2022-05-03T11:33:08.864099Z",
     "iopub.status.idle": "2022-05-03T11:33:08.869532Z",
     "shell.execute_reply": "2022-05-03T11:33:08.868471Z",
     "shell.execute_reply.started": "2022-05-03T11:33:08.864557Z"
    }
   },
   "outputs": [],
   "source": [
    "print(\"R squared: {}\".format(r2))"
   ]
  },
  {
   "cell_type": "code",
   "execution_count": 27,
   "metadata": {
    "execution": {
     "iopub.execute_input": "2022-05-03T11:34:14.482344Z",
     "iopub.status.busy": "2022-05-03T11:34:14.481961Z",
     "iopub.status.idle": "2022-05-03T11:34:14.490611Z",
     "shell.execute_reply": "2022-05-03T11:34:14.489328Z",
     "shell.execute_reply.started": "2022-05-03T11:34:14.482284Z"
    }
   },
   "outputs": [],
   "source": [
    "adj_r2 = 1 - ((1-r2)*(200-1)/(200-3-1))\n",
    "adj_r2"
   ]
  },
  {
   "cell_type": "code",
   "execution_count": 28,
   "metadata": {
    "execution": {
     "iopub.execute_input": "2022-05-03T11:35:01.809193Z",
     "iopub.status.busy": "2022-05-03T11:35:01.808596Z",
     "iopub.status.idle": "2022-05-03T11:35:01.816712Z",
     "shell.execute_reply": "2022-05-03T11:35:01.815630Z",
     "shell.execute_reply.started": "2022-05-03T11:35:01.808847Z"
    }
   },
   "outputs": [],
   "source": [
    "y_pred_test = regr.predict(X_test)\n",
    "r2_test = r2_score(y_true=y_test,y_pred=y_pred_test)\n",
    "r2_test"
   ]
  },
  {
   "cell_type": "code",
   "execution_count": null,
   "metadata": {
    "execution": {
     "iopub.execute_input": "2022-05-03T10:25:44.341147Z",
     "iopub.status.busy": "2022-05-03T10:25:44.340506Z",
     "iopub.status.idle": "2022-05-03T10:25:44.348405Z",
     "shell.execute_reply": "2022-05-03T10:25:44.347737Z",
     "shell.execute_reply.started": "2022-05-03T10:25:44.341078Z"
    }
   },
   "outputs": [],
   "source": [
    "mape = sum(abs((1/200)*((y_test-y_pred_test)/y_test)))\n",
    "mape*100"
   ]
  },
  {
   "cell_type": "markdown",
   "metadata": {
    "_uuid": "55ffa20dff5cf853daa096766b928112c7026a72"
   },
   "source": [
    "## <a id=\"mean\">2. Mean of Residuals</a>"
   ]
  },
  {
   "cell_type": "markdown",
   "metadata": {
    "_uuid": "a59c735a287e204f066a658d59a0e839a7b7fca4"
   },
   "source": [
    "### Residuals as we know are the differences between the true value and the predicted value. One of the assumptions of linear regression is that the mean of the residuals should be zero. So let's find out.\n"
   ]
  },
  {
   "cell_type": "code",
   "execution_count": 29,
   "metadata": {
    "_uuid": "ebaa2a9f4c22c4283fd5d049313c0699c31aab7c",
    "execution": {
     "iopub.execute_input": "2022-05-03T11:37:53.756458Z",
     "iopub.status.busy": "2022-05-03T11:37:53.756101Z",
     "iopub.status.idle": "2022-05-03T11:37:53.762041Z",
     "shell.execute_reply": "2022-05-03T11:37:53.761261Z",
     "shell.execute_reply.started": "2022-05-03T11:37:53.756416Z"
    }
   },
   "outputs": [],
   "source": [
    "residuals = y_train.values-y_pred\n",
    "mean_residuals = np.mean(residuals)\n",
    "print(\"Mean of Residuals {}\".format(mean_residuals))"
   ]
  },
  {
   "cell_type": "markdown",
   "metadata": {
    "_uuid": "9a134e4631b2a0e966aff35f3d586320e091be9e"
   },
   "source": [
    "### Very close to zero so all good here."
   ]
  },
  {
   "cell_type": "markdown",
   "metadata": {
    "_uuid": "b35dfa99ece694cf1a1a4aa332940a5a317aa849"
   },
   "source": [
    "## <a id=\"homo\">3. Check for Homoscedasticity</a>"
   ]
  },
  {
   "cell_type": "markdown",
   "metadata": {
    "_uuid": "cda995bacc177f67674a4cdec00df18a175a0fef"
   },
   "source": [
    "### Homoscedasticity means that the residuals have equal or almost equal variance across the regression line. By plotting the error terms with predicted terms we can check that there should not be any pattern in the error terms."
   ]
  },
  {
   "cell_type": "markdown",
   "metadata": {
    "_uuid": "388dc0ceb7cf54d4c45b199cb5cd2ad1135a2552"
   },
   "source": [
    "### Detecting heteroscedasticity! \n",
    "Graphical Method: Firstly do the regression analysis and then plot the error terms against the predicted values( Yi^). If there is a definite pattern (like linear or quadratic or funnel shaped) obtained from the scatter plot then heteroscedasticity is present."
   ]
  },
  {
   "cell_type": "code",
   "execution_count": 30,
   "metadata": {
    "_uuid": "3df81ae9b32a905c09699e92cab9109ec8cb7c30",
    "execution": {
     "iopub.execute_input": "2022-05-03T11:40:27.871643Z",
     "iopub.status.busy": "2022-05-03T11:40:27.871317Z",
     "iopub.status.idle": "2022-05-03T11:40:28.144739Z",
     "shell.execute_reply": "2022-05-03T11:40:28.143681Z",
     "shell.execute_reply.started": "2022-05-03T11:40:27.871592Z"
    }
   },
   "outputs": [],
   "source": [
    "p = sns.scatterplot(y_pred,residuals)\n",
    "plt.xlabel('y_pred/predicted values')\n",
    "plt.ylabel('Residuals')\n",
    "plt.ylim(-10,10)\n",
    "plt.xlim(0,26)\n",
    "p = sns.lineplot([0,26],[0,0],color='blue')\n",
    "p = plt.title('Residuals vs fitted values plot for homoscedasticity check')"
   ]
  },
  {
   "cell_type": "markdown",
   "metadata": {
    "_uuid": "efaa5dc0410c4d7f18f701f811d1e05d30ed4e9f"
   },
   "source": [
    "## <a id=\"normal\">4. Check for Normality of error terms/residuals</a>"
   ]
  },
  {
   "cell_type": "code",
   "execution_count": 31,
   "metadata": {
    "_uuid": "c8d0e41c1ea3df25be4ff2c2a9e923b859095578",
    "execution": {
     "iopub.execute_input": "2022-05-03T11:48:36.715969Z",
     "iopub.status.busy": "2022-05-03T11:48:36.715678Z",
     "iopub.status.idle": "2022-05-03T11:48:37.045135Z",
     "shell.execute_reply": "2022-05-03T11:48:37.044066Z",
     "shell.execute_reply.started": "2022-05-03T11:48:36.715931Z"
    }
   },
   "outputs": [],
   "source": [
    "p = sns.distplot(residuals,kde=True)\n",
    "p = plt.title('Normality of error terms/residuals')"
   ]
  },
  {
   "cell_type": "markdown",
   "metadata": {
    "_uuid": "eb4a7929ba499ec170e42b0fb105d873e38ee0d2"
   },
   "source": [
    "### The residual terms are pretty much normally distributed for the number of test points we took. Remember the central limit theorem which says that as the sample size increases the distribution tends to be normal. A skew is also visible from the plot. It's very difficult to get perfect curves, distributions in real life data."
   ]
  },
  {
   "cell_type": "markdown",
   "metadata": {
    "_uuid": "555440b31fa2d4c6906ff563213f7a7d469fa8c7"
   },
   "source": [
    "## <a id=\"auto\">5. No autocorrelation of residuals</a>"
   ]
  },
  {
   "cell_type": "markdown",
   "metadata": {
    "_uuid": "b6c4cc3b055ab67f62d317cb765de92f2d574b05"
   },
   "source": [
    "### When the residuals are autocorrelated, it means that the current value is dependent of the previous (historic) values and that there is a definite unexplained pattern in the Y variable that shows up in the error terms. Though it is more evident in time series data.\n",
    "\n",
    "#### In plain terms autocorrelation takes place when there's a pattern in the rows of the data. This is usual in time series data as there is a pattern of time for eg. Week of the day effect which is a very famous pattern seen in stock markets where people tend to buy stocks more towards the beginning of weekends and tend to sell more on Mondays. There's been great study about this phenomenon and it is still a matter of research as to what actual factors cause this trend.\n",
    "\n",
    "### There should not be autocorrelation in the data so the error terms should not form any pattern."
   ]
  },
  {
   "cell_type": "code",
   "execution_count": 32,
   "metadata": {
    "_uuid": "311184f93dd0b29f3ca9e2b5209ddc92a95d6a9b",
    "execution": {
     "iopub.execute_input": "2022-05-03T11:49:19.423658Z",
     "iopub.status.busy": "2022-05-03T11:49:19.423025Z",
     "iopub.status.idle": "2022-05-03T11:49:19.758060Z",
     "shell.execute_reply": "2022-05-03T11:49:19.757038Z",
     "shell.execute_reply.started": "2022-05-03T11:49:19.423609Z"
    },
    "scrolled": true
   },
   "outputs": [],
   "source": [
    "plt.figure(figsize=(10,5))\n",
    "p = sns.lineplot(y_pred,residuals,marker='o',color='blue')\n",
    "plt.xlabel('y_pred/predicted values')\n",
    "plt.ylabel('Residuals')\n",
    "plt.ylim(-10,10)\n",
    "plt.xlim(0,26)\n",
    "p = sns.lineplot([0,26],[0,0],color='red')\n",
    "p = plt.title('Residuals vs fitted values plot for autocorrelation check')"
   ]
  },
  {
   "cell_type": "markdown",
   "metadata": {
    "_uuid": "2a8e7a55289894975c3dee61fab3c23fad38cc87"
   },
   "source": [
    "## <a id=\"multico\">6. No perfect multicollinearity</a>"
   ]
  },
  {
   "cell_type": "markdown",
   "metadata": {
    "_uuid": "b66cf8006abe7cdbf597e6ca363a514cd843a6df"
   },
   "source": [
    "### In regression, multicollinearity refers to the extent to which independent variables are correlated. "
   ]
  },
  {
   "cell_type": "code",
   "execution_count": 33,
   "metadata": {
    "_uuid": "617fd72b573a52167d21a358982f1d7f4de48cb0",
    "execution": {
     "iopub.execute_input": "2022-05-03T11:50:37.565002Z",
     "iopub.status.busy": "2022-05-03T11:50:37.564418Z",
     "iopub.status.idle": "2022-05-03T11:50:38.151380Z",
     "shell.execute_reply": "2022-05-03T11:50:38.150629Z",
     "shell.execute_reply.started": "2022-05-03T11:50:37.564954Z"
    }
   },
   "outputs": [],
   "source": [
    "plt.figure(figsize=(20,20))  # on this line I just set the size of figure to 12 by 10.\n",
    "p=sns.heatmap(ad_data.corr(), annot=True,cmap='RdYlGn',square=True)  # seaborn has very simple solution for heatmap"
   ]
  },
  {
   "cell_type": "markdown",
   "metadata": {
    "_uuid": "8446b87fcf0ee64aef02de31854a91d41d7ad57c"
   },
   "source": [
    "XXXXXXXXXXXXXXXXXXXXXXXXXXXXXXXXXXXXXXXXXXXXXXXXXXXXXXXXXXXXXXXXXXXXX"
   ]
  },
  {
   "cell_type": "markdown",
   "metadata": {
    "_uuid": "de2c55576b9c3996fb19b934419d35973cd66cd3"
   },
   "source": [
    "# So most of the major assumptions of Linear Regression are successfully through. Great! Since this was one of the simplest data sets it demonstrated the steps well. These steps can be applied on other problems to be able to make better decisions about which model to use. I hope this acts as a decent template of sort to be applied to data."
   ]
  },
  {
   "cell_type": "markdown",
   "metadata": {
    "_uuid": "d1d85f20819c56bb2471ef3b84df6d30191f2559"
   },
   "source": [
    "# <a id=\"other\"> 7. Some other model evaluations for fun</a>"
   ]
  },
  {
   "cell_type": "code",
   "execution_count": null,
   "metadata": {
    "_uuid": "c22c26edfe2c6f2e42d7089d8167a775831ea973",
    "execution": {
     "iopub.execute_input": "2022-05-03T10:21:03.909211Z",
     "iopub.status.busy": "2022-05-03T10:21:03.908889Z",
     "iopub.status.idle": "2022-05-03T10:21:03.916841Z",
     "shell.execute_reply": "2022-05-03T10:21:03.915984Z",
     "shell.execute_reply.started": "2022-05-03T10:21:03.909162Z"
    }
   },
   "outputs": [],
   "source": [
    "from sklearn.tree import DecisionTreeRegressor\n",
    "\n",
    "dec_tree = DecisionTreeRegressor(random_state=0)\n",
    "dec_tree.fit(X_train,y_train)\n",
    "dec_tree_y_pred = dec_tree.predict(X_train)\n",
    "\n",
    "print(\"R squared: {}\".format(r2_score(y_true=y_train,y_pred=dec_tree_y_pred)))"
   ]
  },
  {
   "cell_type": "code",
   "execution_count": null,
   "metadata": {
    "execution": {
     "iopub.execute_input": "2022-05-03T10:19:10.547844Z",
     "iopub.status.busy": "2022-05-03T10:19:10.54727Z",
     "iopub.status.idle": "2022-05-03T10:19:10.554391Z",
     "shell.execute_reply": "2022-05-03T10:19:10.553636Z",
     "shell.execute_reply.started": "2022-05-03T10:19:10.547786Z"
    }
   },
   "outputs": [],
   "source": [
    "y_pred_d = dec_tree.predict(X_train)\n",
    "r2d = r2_score(y_true=y_train,y_pred=y_pred_d)\n",
    "r2d"
   ]
  },
  {
   "cell_type": "code",
   "execution_count": null,
   "metadata": {
    "execution": {
     "iopub.execute_input": "2022-05-03T10:19:41.353404Z",
     "iopub.status.busy": "2022-05-03T10:19:41.353083Z",
     "iopub.status.idle": "2022-05-03T10:19:41.360239Z",
     "shell.execute_reply": "2022-05-03T10:19:41.359651Z",
     "shell.execute_reply.started": "2022-05-03T10:19:41.353343Z"
    }
   },
   "outputs": [],
   "source": [
    "y_pred_test_d = dec_tree.predict(X_test)\n",
    "r2_test_d = r2_score(y_true=y_test,y_pred=y_pred_test_d)\n",
    "r2_test_d"
   ]
  },
  {
   "cell_type": "code",
   "execution_count": null,
   "metadata": {
    "_uuid": "8dbde1825918f0e63e9891a05960294f24ad5ce8",
    "execution": {
     "iopub.execute_input": "2022-05-03T10:20:56.953571Z",
     "iopub.status.busy": "2022-05-03T10:20:56.953075Z",
     "iopub.status.idle": "2022-05-03T10:20:56.971694Z",
     "shell.execute_reply": "2022-05-03T10:20:56.970869Z",
     "shell.execute_reply.started": "2022-05-03T10:20:56.953502Z"
    }
   },
   "outputs": [],
   "source": [
    "from sklearn.ensemble import RandomForestRegressor\n",
    "\n",
    "rf_tree = RandomForestRegressor(random_state=0)\n",
    "rf_tree.fit(X_train,y_train)\n",
    "rf_tree_y_pred = rf_tree.predict(X_train)\n",
    "print(\"R squared: {}\".format(r2_score(y_true=y_train,y_pred=rf_tree_y_pred)))"
   ]
  },
  {
   "cell_type": "code",
   "execution_count": null,
   "metadata": {
    "execution": {
     "iopub.execute_input": "2022-05-03T10:20:19.046668Z",
     "iopub.status.busy": "2022-05-03T10:20:19.046389Z",
     "iopub.status.idle": "2022-05-03T10:20:19.054958Z",
     "shell.execute_reply": "2022-05-03T10:20:19.054065Z",
     "shell.execute_reply.started": "2022-05-03T10:20:19.046622Z"
    }
   },
   "outputs": [],
   "source": [
    "y_pred_test_r = rf_tree.predict(X_test)\n",
    "r2_test_r = r2_score(y_true=y_test,y_pred=y_pred_test_r)\n",
    "r2_test_r"
   ]
  },
  {
   "cell_type": "markdown",
   "metadata": {
    "_uuid": "c1bdbc3f97225731d897a57fc2549e3df2fa30c6"
   },
   "source": [
    "Reference:\n",
    "* http://r-statistics.co/Assumptions-of-Linear-Regression.html\n",
    "* https://www.statisticssolutions.com/assumptions-of-linear-regression/"
   ]
  },
  {
   "cell_type": "code",
   "execution_count": null,
   "metadata": {
    "_uuid": "21eecbca1969640179f232efbf834b5fd2512215"
   },
   "outputs": [],
   "source": []
  }
 ],
 "metadata": {
  "kernelspec": {
   "display_name": "Python 3 (ipykernel)",
   "language": "python",
   "name": "python3"
  },
  "language_info": {
   "codemirror_mode": {
    "name": "ipython",
    "version": 3
   },
   "file_extension": ".py",
   "mimetype": "text/x-python",
   "name": "python",
   "nbconvert_exporter": "python",
   "pygments_lexer": "ipython3",
   "version": "3.9.7"
  }
 },
 "nbformat": 4,
 "nbformat_minor": 4
}
